{
 "cells": [
  {
   "cell_type": "markdown",
   "id": "9d9a2330-02f3-4b12-baa2-7cdc5a49e8aa",
   "metadata": {},
   "source": [
    "# Big Data Analytics Praktikum 1\n",
    "\n",
    "**Kennenlernen von Python und MapReduce Program mit Histogramm** \n",
    "\n",
    "## Erklärung\n",
    "Folgendes ist ein `Programm`, der einen `Zahlzähler` als `Map-Reduce` mithilfe von `Python` Funktionen\n",
    "implemeniert und danach die vorkommenden `Zahlen` in der `X-Achse` und ihre `Anzahl` in der `Y-Achse`\n",
    "darstellt. Die Zahlen werden aus der Datei `P.csv` ausgelesen und es wird sichergestellt, dass\n",
    "nur die Zahlen erfasst und der Größe nach aussortiert werden.\n",
    "----\n"
   ]
  },
  {
   "cell_type": "markdown",
   "id": "2c5becee-dbc9-472d-bf18-b7d1f6a223f0",
   "metadata": {},
   "source": [
    "Zunächst importieren wir die benötigten Bibliotheken wie: `csv` - Umgang mit `csv`-Dateien, `reduce` aus `functools` - `reduce`-Funktion, `pyplot` aus `matplotlib` - Darstellung des Histogramms."
   ]
  },
  {
   "cell_type": "code",
   "execution_count": 5,
   "id": "b70575e4-133a-49ec-b641-efae013ae296",
   "metadata": {},
   "outputs": [],
   "source": [
    "import csv\n",
    "from functools import reduce\n",
    "from matplotlib import pyplot as plt"
   ]
  },
  {
   "cell_type": "markdown",
   "id": "67b2b859-51d2-4b86-a99a-d3342a62677e",
   "metadata": {},
   "source": [
    "Die Funktion `cleanNumbers` nimmt als Parameter die Liste der Zahlen in `string`-Darstellung entgegen und filtert zunächst nur diejenigen, die `isdigit()` und Vorzeichen enthalten. Anschließend werden mithilfe einer Typkonvertierung diese Strings in Integers umgewandelt."
   ]
  },
  {
   "cell_type": "code",
   "execution_count": 6,
   "id": "509a9a72-2a39-4a9a-a12b-ebf638f78e34",
   "metadata": {},
   "outputs": [],
   "source": [
    "def cleanNumbers(numbers):\n",
    "    cleaned_list = []\n",
    "    integers_list = []\n",
    "    for num in numbers:\n",
    "        digits_only = ''.join(filter(lambda x: x.isdigit() or x in ['-', '+'], num))\n",
    "        cleaned_list.append(digits_only)\n",
    "    for c in cleaned_list:\n",
    "        integers_list.append(int(c))\n",
    "    return integers_list"
   ]
  },
  {
   "cell_type": "markdown",
   "id": "eafad41f-f485-4e19-93cd-3f249519cd05",
   "metadata": {},
   "source": [
    "Beim Aufruf der folgenden Methode wird für die durch Parameter genommene Zahl ein `dictionary` mit dem Value 1 erzeugt, was später zur Aufzählung benutzt wird."
   ]
  },
  {
   "cell_type": "code",
   "execution_count": 7,
   "id": "7c885f7c-9d21-445d-a40b-a68432dc5ea9",
   "metadata": {},
   "outputs": [],
   "source": [
    "def mapper(number):\n",
    "    return {number: 1}"
   ]
  },
  {
   "cell_type": "markdown",
   "id": "506051d6-73b4-41ed-9a97-98073c40986a",
   "metadata": {},
   "source": [
    "Hier wird die Zahlenhäufigkeit inkrementiert, falls sie in der Liste ist, sonst wird sie erst hinzugefügt. Nach der Iteration wird die Liste zurückgegeben."
   ]
  },
  {
   "cell_type": "code",
   "execution_count": 8,
   "id": "08358fcd-4ebc-41f0-8504-d762adb24c06",
   "metadata": {},
   "outputs": [],
   "source": [
    "def reducer(lhs, rhs):\n",
    "    for i in rhs:\n",
    "        if i in lhs:\n",
    "            lhs[i] += rhs[i]\n",
    "        else:\n",
    "            lhs[i] = rhs[i]\n",
    "    return lhs"
   ]
  },
  {
   "cell_type": "markdown",
   "id": "90f75b0f-6db5-4fa6-80e3-41e72db6f955",
   "metadata": {},
   "source": [
    "Die Funktion `num_reader` öffnet die `P.csv`-Datei, liest sie ein, trennt die Elemente, die mit einem Delimiter (`;`) getrennt gespeichert wurden, wendet die `cleanNumbers()`-Funktion an, um die Nummernwerte zu erhalten und sortiert anschließend diese Liste der Zahlen aufsteigend."
   ]
  },
  {
   "cell_type": "code",
   "execution_count": 11,
   "id": "7c91a6a7-0e83-48c6-943a-b569274f1175",
   "metadata": {},
   "outputs": [],
   "source": [
    "def num_reader():\n",
    "    with open(\"P.csv\", 'r') as file:\n",
    "        csvreader = csv.reader(file, delimiter=';')\n",
    "        for row in csvreader:\n",
    "            clean_nums = cleanNumbers(row)\n",
    "            clean_nums.sort()\n",
    "            return clean_nums"
   ]
  },
  {
   "cell_type": "markdown",
   "id": "0508bf9f-fa57-4d7e-97f9-ab2723504347",
   "metadata": {},
   "source": [
    "Mapper läuft auf einer verteilten (parallelen) Datenmenge in Subsets und wendet die `mapper`-Funktion auf die einzelnen Werte der Liste an. Die `reduce`-Funktion wird verwendet, um die Funktion auf ein Iterable anzuwenden und anschließend auf einen kumulativen Wert zu reduzieren. Schließlich wenden wir die `bar`-Funktion an, um die X- und Y-Achsen festzulegen, und `show`, um das Histogramm darzustellen."
   ]
  },
  {
   "cell_type": "code",
   "execution_count": 12,
   "id": "9ca38a76-fedb-44c2-90eb-d2921dc5a7cb",
   "metadata": {},
   "outputs": [
    {
     "data": {
      "image/png": "[encoded data removed]",
      "text/plain": [
       "<Figure size 432x288 with 1 Axes>"
      ]
     },
     "metadata": {
      "needs_background": "light"
     },
     "output_type": "display_data"
    }
   ],
   "source": [
    "counter = reduce(reducer, map(mapper, num_reader()), {})\n",
    "plt.bar(counter.keys(), counter.values())\n",
    "plt.show()"
   ]
  }
 ],
 "metadata": {
  "kernelspec": {
   "display_name": "Python 3 (ipykernel)",
   "language": "python",
   "name": "python3"
  },
  "language_info": {
   "codemirror_mode": {
    "name": "ipython",
    "version": 3
   },
   "file_extension": ".py",
   "mimetype": "text/x-python",
   "name": "python",
   "nbconvert_exporter": "python",
   "pygments_lexer": "ipython3",
   "version": "3.9.6"
  }
 },
 "nbformat": 4,
 "nbformat_minor": 5
}
