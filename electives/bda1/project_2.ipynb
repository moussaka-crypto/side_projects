{
 "cells": [
  {
   "cell_type": "markdown",
   "id": "c06da308-6703-430c-af11-e087f0a85505",
   "metadata": {},
   "source": [
    "# Big Data Analytics Praktikum 2\n",
    "\n",
    "**Abfragen mit Apache Drill** \n",
    "\n",
    "Machen Sie sich mit Apache Drill vertraut. Lösen Sie die Aufgaben in `sqlline` oder in einem Jupyter Notebook. Nutzen Sie die markierten Zellen im vorliegenden Notebook `BDA1_A2_Drill` für die Lösung und laden Sie es in Ilias hoch.\n",
    "\n",
    "----\n",
    "\n",
    "## Vorbereitung\n",
    "* Erzeugen Sie den Ordner `work/drill-driver` im JupyterLab Workspace\n",
    "* Legen Sie eine neue Datei `odbc.ini` dort an. Sie finden ein Beispiel unter `Big_Data_Analytics_1/public/drill-driver/`\n"
   ]
  },
  {
   "cell_type": "markdown",
   "id": "64a92662-3732-4c4f-90ad-4e8a00e6df99",
   "metadata": {},
   "source": [
    "In Drill sind mehrere Datenmengen konfiguriert und für Sie verwendbar:\n",
    "\n",
    "* **dfs.data.\\`co2data.tsv\\`**<br>DFS Datenquelle in Form eines Datensatz an Sensordaten\n",
    "* **bdapi.labels**<br>HTTP Datenquelle mit Sensornamen und -Positionen\n",
    "* **bdapi.sensors**<br>HTTP Datenquelle mit einer fixierten Liste von JSON Objekten mit Sensordaten.\n",
    "* **bdapi.sensorslastday**<br>HTTP Datenqelle mit einem JSON Objekt, das dynamische Sensordaten anbietet.\n",
    "* **weather.sunrise**<br>HTTP Storage einer API, die Zeiten des Sonnenauf- und Sonnenuntergangs an einer gegebenen Position (fields lat und lon) zu einem Datum (field date) zurückgibt. Mehr Infos dazu auf der Webseite zur [sunrise-sunset.org/api](https://sunrise-sunset.org/api)."
   ]
  },
  {
   "cell_type": "markdown",
   "id": "b226b47a-ae0b-4ebd-a902-e87ff7a40269",
   "metadata": {
    "tags": []
   },
   "source": [
    "## Aufgabe 2 a\n",
    "\n",
    "Verschaffen Sie sich einen Überblick über die Sensordaten, die Sie im Drill unter ``dfs.data.`co2data.tsv` `` finden. Beantworten Sie die folgenden\n",
    "Fragen, indem Sie jeweils eine SQL-Query gegen das Drill Cluster ausführen:\n",
    "    \n",
    "1. Wieviele verschiedene Sensoren (angegeben im Feld _source_) enhält die Datenmenge?\n",
    "2. Wieviele Datenpunkte je Sensor liegen vor? Geben Sie sowohl Sensor als auch Anzahl aus.\n",
    "3. Bereiten Sie in einer SQL-Query die Werte in einzelnen Spalten so vor, dass sie sinnvolle Datentypen aufweisen:\n",
    "    1. Sowohl _humidity_, _temperature_ als auch _co2_ sollen als auf zwei Nachkommastellen gerundete Fließkommazahlen verfügbar sein.\n",
    "    2. Die erste Spalte gibt den Zeitstempel als Unix Epoch mit Mikrosekunden an. Machen Sie daraus einen Drill Timestamp\n",
    "4. Was ist der höchste, und was der niedrigste Temperaturwert? Beide Werte sollen zusammen in einer Query angefragt werden. Kennzeichnen Sie die beiden Felder mit einem entsprechenden Namen.\n",
    "5. Was ist der durchschnittliche CO<sub>2</sub>-Wert je Sensor in der Datenmenge?\n"
   ]
  },
  {
   "cell_type": "code",
   "execution_count": 52,
   "id": "7379fddf-95b1-47e7-8478-476b7e4bb41a",
   "metadata": {},
   "outputs": [
    {
     "name": "stdout",
     "output_type": "stream",
     "text": [
      "connected to drillbit drill\n",
      "1.20.0\n"
     ]
    }
   ],
   "source": [
    "import pyodbc\n",
    "\n",
    "def connect(dsn='drill'):\n",
    "    \"\"\"opens the connection to given DSN\"\"\"\n",
    "    conn = pyodbc.connect(\"DSN=\"+dsn, autocommit=True)\n",
    "    if not conn.closed:\n",
    "        print(f\"connected to drillbit {dsn}\")\n",
    "        return conn\n",
    "    else:\n",
    "        print(f\"could not connect to {dsn}\")\n",
    "        return None\n",
    "\n",
    "con = connect()\n",
    "query = '''SELECT version FROM sys.version'''\n",
    "csr = con.cursor()\n",
    "csr.execute(query)\n",
    "res = csr.fetchone() # fetchmany fetchall\n",
    "print(res[0])"
   ]
  },
  {
   "cell_type": "markdown",
   "id": "d0a0c485-1c66-4397-a7f2-31e6f52fa1ac",
   "metadata": {},
   "source": [
    "## 2a: 1.) Zählen der Anzahl der Sensoren\n",
    "\n",
    "- Die folgende SQL-Abfrage zählt die Anzahl der Sensoren in den CO2-Daten, die in der Tabelle co2data.tsv gespeichert sind und gibt diese Anzahl zurück.\n",
    "- Die Identifikationsnummern(serial_number) der Sensoren sind in der zweiten Spalte (Spaltenindex 1, da die Zählung bei 0 beginnt) der Tabelle gespeichert.\n",
    "- Da ein Sensor mehrere Messungen durchführen kann, können die Nummern der Sensoren in der Tabelle mehrfach erscheinen. Daher wird das DISTINCT-Schlüsselwort in der COUNT-Funktion verwendet, um nur die einzigartigen Sensoren zu zählen."
   ]
  },
  {
   "cell_type": "code",
   "execution_count": 18,
   "id": "7a925a8f-2538-4740-a4fd-6d29e91d2c37",
   "metadata": {
    "tags": [
     "bda1_ex2_a",
     "ex2_a",
     "ex2_a1"
    ]
   },
   "outputs": [
    {
     "name": "stdout",
     "output_type": "stream",
     "text": [
      "(23, )\n"
     ]
    }
   ],
   "source": [
    "query = '''\n",
    "SELECT COUNT(DISTINCT columns[1]) AS sensoren FROM dfs.data.`co2data.tsv`\n",
    "'''\n",
    "csr = con.cursor()\n",
    "csr.execute(query)\n",
    "res = csr.fetchall()\n",
    "for row in res:\n",
    "    print(row)"
   ]
  },
  {
   "cell_type": "markdown",
   "id": "63255638-1b18-465f-b235-6e64178b4616",
   "metadata": {},
   "source": [
    "## 2a: 2.) Zählen der Datenpunkte pro Sensor\n",
    "\n",
    "- Die folgende Abfrage zählt die Anzahl der Messwerte für jeden Sensor bzw. die Anzahl des Auftretens jedes Sensors.\n",
    "- Die Abfrage gibt eine Tabelle zurück, in der jede Zeile einen Sensor und die Anzahl der von diesem Sensor aufgezeichneten Datenpunkte darstellt.\n",
    "- Mit dem Befehl GROUP BY werden die Daten nach Sensornummer geordnet. Für jeden einzelnen Sensor wird dann die Gesamtanzahl seiner Messungen mit COUNT(*) berechnet."
   ]
  },
  {
   "cell_type": "code",
   "execution_count": 21,
   "id": "881d46bc-1135-45ca-8018-30d8cec2a54a",
   "metadata": {
    "tags": [
     "bda1_ex2_a",
     "ex2_a2"
    ]
   },
   "outputs": [
    {
     "name": "stdout",
     "output_type": "stream",
     "text": [
      "('s_3c6105d3abae_', 2)\n",
      "('s_e8db84c5f33d', 83)\n",
      "('s_8caab57a6dd9_', 6)\n",
      "('s_8caab57a6dd9_288065', 2781611)\n",
      "('s_d8bfc0147061_', 1)\n",
      "('s_10521c01cf19_262520', 385103)\n",
      "('s_8caab57c3e19_282028', 1561045)\n",
      "('s_10521c0202ab_284839', 2064)\n",
      "('s_8caab57a6dd9', 11)\n",
      "('s_e8db84c5f771_', 2)\n",
      "('s_3c6105d3abae_299589', 1533917)\n",
      "('s_d8bfc0147061_283903', 578456)\n",
      "('s_8caab57cc961_', 7)\n",
      "('s_8caab57c3e19_', 1)\n",
      "('s_e8db84c5f33d_281913', 2269085)\n",
      "('s_d8bfc014724e_262793', 2103522)\n",
      "('s_8caab57cc961_284337', 1131861)\n",
      "('s_8caab57a6dd9_0xdeadbeef', 49)\n",
      "('s_e8db84c5f771_300390', 1665528)\n",
      "('s_e8db84c5f33d_', 13)\n",
      "('serial_number', 1)\n",
      "('s_10521c01cf19_', 2)\n",
      "('s_e8db84c5f33d_0xdeadbeef', 1515)\n"
     ]
    }
   ],
   "source": [
    "query = '''\n",
    "SELECT columns[1] AS serial_number, COUNT(*) AS data_points\n",
    "FROM dfs.data.`co2data.tsv`\n",
    "GROUP BY columns[1]\n",
    "'''\n",
    "csr = con.cursor()\n",
    "csr.execute(query)\n",
    "res = csr.fetchall()\n",
    "for row in res:\n",
    "    print(row)"
   ]
  },
  {
   "cell_type": "markdown",
   "id": "6a77892b-75a0-4559-9733-5cfd72cedff6",
   "metadata": {},
   "source": [
    "## 2a: 3.) Umwandlung von CO2-Werten, Temperatur und relativer Luftfeuchtigkeit\n",
    "\n",
    "- Die folgende Abfrage konvertiert die Werte mit \"cast\" und \"decimal\" von CO2 , Temperatur  und relative Luftfeuchtigkeit zu Dezimalzahlen.\n",
    "- Die Abfrage gibt eine Tabelle zurück, in der jede Zeile einen Datensatz darstellt und die Werte für CO2, Temperatur und relative Luftfeuchtigkeit als Dezimalzahlen        dargestellt sind\n",
    "- Timestamp code: Mit To_Timestamp(TO_TIMESTAMP(CAST(columns[6] AS INT)/1000000) AS timestamp) sollte der Drill timestamp erstellt werden und vorher sollten die Mikrosekunden in Sekunden umgerechnet werden mit dem Faktor 1 Million um für die Timestamp funktion verwendet werden zu können. Danach:AND columns[6] <> 'timestamp'."
   ]
  },
  {
   "cell_type": "code",
   "execution_count": 51,
   "id": "e2f16ecb-93d3-430b-a520-b145b8a2c077",
   "metadata": {
    "tags": [
     "bda1_ex2_a",
     "ex2_a3"
    ]
   },
   "outputs": [
    {
     "name": "stdout",
     "output_type": "stream",
     "text": [
      "(Decimal('420.00'), Decimal('23.00'), Decimal('36.00'))\n",
      "(Decimal('421.00'), Decimal('24.00'), Decimal('32.00'))\n",
      "(Decimal('420.00'), Decimal('24.00'), Decimal('32.00'))\n",
      "(Decimal('651.00'), Decimal('20.00'), Decimal('44.00'))\n",
      "(Decimal('422.00'), Decimal('23.00'), Decimal('36.00'))\n",
      "(Decimal('422.00'), Decimal('23.00'), Decimal('36.00'))\n",
      "(Decimal('423.00'), Decimal('23.00'), Decimal('36.00'))\n",
      "(Decimal('436.00'), Decimal('22.00'), Decimal('41.00'))\n",
      "(Decimal('653.00'), Decimal('20.00'), Decimal('44.00'))\n",
      "(Decimal('653.00'), Decimal('20.00'), Decimal('44.00'))\n"
     ]
    }
   ],
   "source": [
    "query = '''\n",
    "SELECT \n",
    "    ROUND(CAST(columns[3] AS DECIMAL(6, 2)), 2) AS co2_ppm,\n",
    "    ROUND(CAST(columns[4] AS DECIMAL(6, 2)), 2) AS temperature_celsius,\n",
    "    ROUND(CAST(columns[5] AS DECIMAL(6, 2)), 2) AS relative_humidity_percent\n",
    "    \n",
    "FROM dfs.data.`co2data.tsv`\n",
    "WHERE columns[3] <> 'co2_ppm'\n",
    "AND columns[4] <> 'temperature_celsius' \n",
    "AND columns[5] <> 'relative_humidity_percent'\n",
    "LIMIT 10\n",
    "'''\n",
    "\n",
    "csr = con.cursor()\n",
    "csr.execute(query)\n",
    "res = csr.fetchall()\n",
    "for row in res:\n",
    "    print(row)"
   ]
  },
  {
   "cell_type": "markdown",
   "id": "3b2746e9-f2be-4870-98b3-863e146f6ce4",
   "metadata": {},
   "source": [
    "## 2a: 4.) Bestimmung der minimalen und maximalen Temperatur\n",
    "\n",
    "- Die Funktionen MIN und MAX werden verwendet, um den kleinsten bzw. größten Wert in der Temperaturspalte zu finden.\n",
    "- Um sicherzustellen, dass die Funktionen MIN und MAX auf gültige Daten angewendet werden, werden Zeilen mit dem Wert 'temperature_celsius' oder 'null' in der Temperaturspalte ausgeschlossen. Das erfolgt durch die WHERE Anweisung.\n",
    "- min_temperature und max_temperature sind die entsprechenden Kennzeichnungen der Ergebnisfelder"
   ]
  },
  {
   "cell_type": "code",
   "execution_count": 5,
   "id": "4f4c0e52-f7be-4866-9c70-1299a87c288e",
   "metadata": {
    "tags": [
     "bda1_ex2_a",
     "ex2_a4"
    ]
   },
   "outputs": [
    {
     "name": "stdout",
     "output_type": "stream",
     "text": [
      "(-1.0, 36.0)\n"
     ]
    }
   ],
   "source": [
    "query = '''\n",
    "SELECT \n",
    "    MIN(CAST(columns[4] AS DOUBLE)) AS min_temperature, \n",
    "    MAX(CAST(columns[4] AS DOUBLE)) AS max_temperature \n",
    "FROM dfs.data.`co2data.tsv`\n",
    "WHERE columns[4] <> 'temperature_celsius'\n",
    "AND columns[4] <> 'null'\n",
    "'''\n",
    "csr = con.cursor()\n",
    "csr.execute(query)\n",
    "res = csr.fetchall()\n",
    "for row in res:\n",
    "    print(row)"
   ]
  },
  {
   "cell_type": "markdown",
   "id": "fec61810-25e2-4fce-9e08-bba052041a47",
   "metadata": {},
   "source": [
    "## 2a: 5.) Durchschnittlicher CO2-Wert pro Sensor\n",
    "\n",
    "- In dieser Abfrage wird der Durchschnitt vom CO2-ppm Wert für jeden Sensor berechnet. \n",
    "- Die AVG-Funktion wird verwendet, um den Durchschnitt der CO2-Werte für jede einzigartige serial_number zu berechnen.\n",
    "- Auch hier werden ungültige Daten ignoriert, indem die folgenden Zeilen ausgeschlossen werden, die 'co2_ppm', 'null' oder 'serial_number' in den relevanten Spalten haben.\n",
    "- Schließlich werden die Daten nach der Seriennummer des Sensors gruppiert und der Durchschnitt berechnet."
   ]
  },
  {
   "cell_type": "code",
   "execution_count": 6,
   "id": "12a5ab2b-f997-4470-8a81-86f103768c54",
   "metadata": {
    "tags": [
     "bda1_ex2_a",
     "a:5",
     "ex2_a5"
    ]
   },
   "outputs": [
    {
     "name": "stdout",
     "output_type": "stream",
     "text": [
      "('s_8caab57a6dd9_288065', Decimal('654.238816'))\n",
      "('s_3c6105d3abae_299589', Decimal('833.976671'))\n",
      "('s_e8db84c5f33d_0xdeadbeef', Decimal('-1.000000'))\n",
      "('s_8caab57cc961_284337', Decimal('470.793016'))\n",
      "('s_8caab57a6dd9_', Decimal('983.666667'))\n",
      "('s_10521c0202ab_284839', Decimal('436.763566'))\n",
      "('s_e8db84c5f33d', Decimal('1403.228916'))\n",
      "('s_d8bfc014724e_262793', Decimal('770.455495'))\n",
      "('s_8caab57a6dd9_0xdeadbeef', Decimal('-1.000000'))\n",
      "('s_10521c01cf19_', Decimal('467.500000'))\n",
      "('s_e8db84c5f771_300390', Decimal('954.087763'))\n",
      "('s_8caab57c3e19_282028', Decimal('876.931584'))\n",
      "('s_e8db84c5f33d_281913', Decimal('531.210462'))\n",
      "('s_d8bfc0147061_283903', Decimal('628.633917'))\n",
      "('s_e8db84c5f33d_', Decimal('488.769231'))\n",
      "('s_10521c01cf19_262520', Decimal('500.677816'))\n",
      "('s_e8db84c5f771_', Decimal('863.000000'))\n",
      "('s_d8bfc0147061_', Decimal('722.000000'))\n",
      "('s_8caab57c3e19_', Decimal('620.000000'))\n",
      "('s_8caab57cc961_', Decimal('429.285714'))\n",
      "('s_3c6105d3abae_', Decimal('832.000000'))\n"
     ]
    }
   ],
   "source": [
    "query = '''\n",
    "SELECT \n",
    "    columns[1] AS sensor_serial_number, \n",
    "    AVG(CAST(columns[3] AS DECIMAL(10, 2))) AS avg_co2_ppm\n",
    "FROM dfs.data.`co2data.tsv`\n",
    "WHERE columns[3] <> 'co2_ppm'\n",
    "AND columns[3] <> 'null'\n",
    "AND columns[1] <> 'serial_number'\n",
    "GROUP BY columns[1]\n",
    "'''\n",
    "csr = con.cursor()\n",
    "csr.execute(query)\n",
    "res = csr.fetchall()\n",
    "for row in res:\n",
    "    print(row)"
   ]
  },
  {
   "cell_type": "markdown",
   "id": "3935ad8e-4234-4cc6-9178-f13f7427e890",
   "metadata": {},
   "source": [
    "## Aufgabe 2 b\n",
    "\n",
    "1. Verknüpfen Sie die Daten aus `dfs.data.`co2data.tsv` mit den Daten aus `bdapi.labels`. Geben Sie, wenn möglich, den Sensornamen ( _name_ ) und Besitzer ( _owner_ ) zu jeder Seriennummer aus. Falls Daten fehlen, geben Sie die Seriennummer dennoch aus.<br>Hinweis: Die Seriennummern liegen bei den beiden Datenmengen in unterschiedlicher Repräsentation vor. Untersuchen Sie die Datenmengen und ändern Sie Ihre Query so ab, dass die Seriennummern korrekt verknüpft werden. \n",
    "2. Überführen Sie diese Query (aus 2b) 1) in eine View. Sie haben Schreibrecht im Workspace `dfs.tmp`. Legen Sie darin eine View namens `labels_<ihre Ilias-ID>` an.<br>Beispiel: Lautet Ihre Ilias-ID `mr1337s` nutzen Sie `labels_mr1337s`. Falls diese View bereits existiert soll sie überschrieben werden!\n",
    "3. Nutzen Sie Ihre neu angelegte View nun und zeigen Sie alle Sensoren des Besitzers `Elsen` an.\n",
    "4. Wann ein Sensor eines unbekannten Besitzers (`unknown`) zum ersten Mal gesendet?\n",
    "5. Lassen Sie sich den physischen Plan für die Query aus 2b 4. anzeigen. "
   ]
  },
  {
   "cell_type": "markdown",
   "id": "19f80de8-a26b-44c8-b6c9-6303982e0e50",
   "metadata": {},
   "source": [
    "## 2b: 1.) Verknüpfen von Sensor Daten\n",
    "\n",
    "- REGEXP_REPLACE(columns[1], '^s_|_$', '') entfernt das 's_' am Anfang und den '_' am Ende, aus der serial number. Dadurch werden die identifiaktionsnummern normalisiert.\n",
    "- LOWER() wandelt die Seriennummern in Kleinbuchstaben um.\n",
    "- DISTINCT stellt sicher, nur eindeutige Seriennummern zurückzugeben.\n",
    "- Mit dem FULL OUTER JOIN werden die normalisierten Seriennummern aus den CO2-Daten mit den entsprechenden Informationen (Name, Besitzer) aus dem Datensatz bdapi.labels kombiniert.\n",
    "- Mit COALESCE wird sichergestellt, dass alle Sensornamen, die existieren einen Wert haben. Wenn die serial number in der Tabelle d vorhanden ist, wird sie verwendet. Andernfalls die serial number aus l."
   ]
  },
  {
   "cell_type": "code",
   "execution_count": 7,
   "id": "05eeff75-dbe7-4de3-b995-cb8a157dc068",
   "metadata": {
    "tags": [
     "bda1_ex2_b1",
     "ex2_b1"
    ]
   },
   "outputs": [
    {
     "name": "stdout",
     "output_type": "stream",
     "text": [
      "('8caab57a6dd9_288065', None, None)\n",
      "('3c6105d3abae_299589', None, None)\n",
      "('0013a20041a2f0eb', 'Office H215', 'Remmy')\n",
      "('0013a20041a94c97', 'Infrastructure S2', 'Unknown')\n",
      "('serial_number', None, None)\n",
      "('0013a20041a94ff3', 'Commerce Center S4', 'Unknown')\n",
      "('0013a20041a94ca6', 'Main S1', 'Elsen')\n",
      "('0013a20041a787bd', 'Main S2', 'Elsen')\n",
      "('0013a20041a94ca8', 'Moving S2', 'Elsen')\n",
      "('0013a20041a94be7', 'Mensa S4', 'Elsen')\n",
      "('0013a20041a95193', 'Mensa S5', 'Elsen')\n",
      "('3c6105d3abae', 'Main Station S5', 'Elsen')\n",
      "('e8db84c5f33d_0xdeadbeef', None, None)\n",
      "('d8bfc014724e_262793', None, None)\n",
      "('0013a20041a94cbc', 'Moving S1', 'Elsen')\n",
      "('0013a20041a94c5f', 'Main S2', 'Elsen')\n",
      "('0013a20041a950cb', 'Infrastructure S1', 'Unknown')\n",
      "('0013a20041a2f800', 'Office F420', 'Elsen')\n",
      "('8caab57a6dd9', 'Admin S3', 'Remmy')\n",
      "('8caab57cc961', 'Main Station S3', 'Elsen')\n",
      "('e8db84c5f33d', 'Commerce Center S6', 'Unknown')\n",
      "('0013a20041a94c04', 'Mensa S3', 'Elsen')\n",
      "('d8bfc0147061', 'Commerce Center S8', 'Unknown')\n",
      "('8caab57a6dd9_0xdeadbeef', None, None)\n",
      "('8caab57c3e19', 'Main Station S2', 'Elsen')\n",
      "('0013a20041a7854c', 'Cathedral', 'Unknown')\n",
      "('0013a20041a94ff1', 'Commerce Center S2', 'Unknown')\n",
      "('0013a20041a94c93', 'Admin S1', 'Remmy')\n",
      "('10521c01cf19_262520', None, None)\n",
      "('10521c0202ab_284839', None, None)\n",
      "('0013a20041a94fb9', 'External S1', 'Elsen')\n",
      "('0013a20041a94fa5', 'External S2', 'Elsen')\n",
      "('0013a20041a94fa3', 'Office H101', 'Elsen')\n",
      "('e8db84c5f33d_281913', None, None)\n",
      "('d8bfc0147061_283903', None, None)\n",
      "('8caab57c3e19_282028', None, None)\n",
      "('0013a20041a94fbb', 'Commerce Center S1', 'Unknown')\n",
      "('10521c0202ab', 'Main Station S4', 'Elsen')\n",
      "('0013a20041a94c62', 'Moving S3', 'Elsen')\n",
      "('e8db84c5f771_300390', None, None)\n",
      "('10521c01cf19', 'Admin S4', 'Remmy')\n",
      "('0013a20041a78580', 'External S3', 'Elsen')\n",
      "('0013a20041a94c19', 'Mensa S1', 'Elsen')\n",
      "('0013a20041a951ad', 'Mensa S2', 'Elsen')\n",
      "('0013a20041a94ff2', 'Commerce Center S3', 'Unknown')\n",
      "('e8db84c5f771', 'Commerce Center S7', 'Unknown')\n",
      "('8caab57cc961_284337', None, None)\n",
      "('d8bfc014724e', 'Main Station S1', 'Elsen')\n",
      "('0013a20041a7859a', 'Office H216', 'Remmy')\n",
      "('0013a20041a94c5d', 'Admin S2', 'Remmy')\n"
     ]
    }
   ],
   "source": [
    "query = '''\n",
    "SELECT COALESCE(d.serial_number, l.serial_number) AS serial_number,\n",
    "       l.name,\n",
    "       l.owner\n",
    "FROM (\n",
    "    SELECT DISTINCT LOWER(REGEXP_REPLACE(columns[1], '^s_|_$', '')) AS serial_number\n",
    "    FROM dfs.data.`co2data.tsv`\n",
    ") AS d\n",
    "FULL OUTER JOIN (\n",
    "    SELECT LOWER(serial) AS serial_number,\n",
    "           name,\n",
    "           owner\n",
    "    FROM bdapi.labels\n",
    ") AS l ON d.serial_number = l.serial_number\n",
    "'''\n",
    "csr = con.cursor()\n",
    "csr.execute(query)\n",
    "res = csr.fetchall()\n",
    "for row in res:\n",
    "    print(row)"
   ]
  },
  {
   "cell_type": "markdown",
   "id": "fac33f93-1b08-4b64-a953-e9fb52ce2c93",
   "metadata": {},
   "source": [
    "## 2b: 2.) Erstellen einer View\n",
    "\n",
    "- Das Resultat aus der Abfrage von 2b: 1.) wird als eine temporäre View gespeichert.\n",
    "- Es wird eine View erstellt oder aktualisiert(mit CREATE OR REPLACE) mit dem Namen labels_bf1215s im Verzeichnis dfs.tmp."
   ]
  },
  {
   "cell_type": "code",
   "execution_count": 8,
   "id": "37c743b3-8207-49bb-86ee-c35bc13b1418",
   "metadata": {
    "tags": [
     "bda1_ex2_b1",
     "ex2_b2"
    ]
   },
   "outputs": [
    {
     "name": "stdout",
     "output_type": "stream",
     "text": [
      "(True, \"View 'labels_bf1215s' replaced successfully in 'dfs.tmp' schema\")\n"
     ]
    }
   ],
   "source": [
    "query = '''\n",
    "CREATE OR REPLACE VIEW dfs.tmp.`labels_bf1215s` AS\n",
    "SELECT COALESCE(d.serial_number, l.serial_number) AS serial_number,\n",
    "       l.name,\n",
    "       l.owner\n",
    "FROM (\n",
    "    SELECT DISTINCT LOWER(REGEXP_REPLACE(columns[1], '^s_|_$', '')) AS serial_number\n",
    "    FROM dfs.data.`co2data.tsv`\n",
    ") AS d\n",
    "FULL OUTER JOIN (\n",
    "    SELECT LOWER(serial) AS serial_number,\n",
    "           name,\n",
    "           owner\n",
    "    FROM bdapi.labels\n",
    ") AS l ON d.serial_number = l.serial_number\n",
    "'''\n",
    "csr = con.cursor()\n",
    "csr.execute(query)\n",
    "res = csr.fetchall()\n",
    "for row in res:\n",
    "    print(row)"
   ]
  },
  {
   "cell_type": "markdown",
   "id": "16aa43a0-dfa2-4d37-a74f-8b3a925802a1",
   "metadata": {},
   "source": [
    "## 2b: 3.) Abfrage der View mit Filterung nach Owner\n",
    "\n",
    "- Durch die Where Abfrage wird das Ergebnis auf alle Owner mit dem Namen \"Elsen\" reduziert."
   ]
  },
  {
   "cell_type": "code",
   "execution_count": 9,
   "id": "1ca16f85-e975-4e43-a285-469e7cadcce2",
   "metadata": {
    "tags": [
     "bda1_ex2_b1",
     "ex_b3"
    ]
   },
   "outputs": [
    {
     "name": "stdout",
     "output_type": "stream",
     "text": [
      "('0013a20041a94fb9', 'External S1', 'Elsen')\n",
      "('0013a20041a94fa5', 'External S2', 'Elsen')\n",
      "('0013a20041a94fa3', 'Office H101', 'Elsen')\n",
      "('8caab57cc961', 'Main Station S3', 'Elsen')\n",
      "('0013a20041a94c04', 'Mensa S3', 'Elsen')\n",
      "('d8bfc014724e', 'Main Station S1', 'Elsen')\n",
      "('10521c0202ab', 'Main Station S4', 'Elsen')\n",
      "('0013a20041a94c62', 'Moving S3', 'Elsen')\n",
      "('0013a20041a94ca6', 'Main S1', 'Elsen')\n",
      "('0013a20041a787bd', 'Main S2', 'Elsen')\n",
      "('0013a20041a94ca8', 'Moving S2', 'Elsen')\n",
      "('0013a20041a94be7', 'Mensa S4', 'Elsen')\n",
      "('0013a20041a95193', 'Mensa S5', 'Elsen')\n",
      "('3c6105d3abae', 'Main Station S5', 'Elsen')\n",
      "('0013a20041a94cbc', 'Moving S1', 'Elsen')\n",
      "('0013a20041a94c5f', 'Main S2', 'Elsen')\n",
      "('0013a20041a2f800', 'Office F420', 'Elsen')\n",
      "('8caab57c3e19', 'Main Station S2', 'Elsen')\n",
      "('0013a20041a78580', 'External S3', 'Elsen')\n",
      "('0013a20041a94c19', 'Mensa S1', 'Elsen')\n",
      "('0013a20041a951ad', 'Mensa S2', 'Elsen')\n"
     ]
    }
   ],
   "source": [
    "query = '''\n",
    "SELECT * \n",
    "FROM dfs.tmp.`labels_bf1215s`\n",
    "WHERE owner = 'Elsen'\n",
    "'''\n",
    "csr = con.cursor()\n",
    "csr.execute(query)\n",
    "res = csr.fetchall()\n",
    "for row in res:\n",
    "    print(row)"
   ]
  },
  {
   "cell_type": "markdown",
   "id": "e950d30e-3638-499b-82ad-3f733b9af852",
   "metadata": {},
   "source": [
    "## 2b: 4.) Abfrage frühester Zeitstempel von \"unknown\" owner\n",
    "\n",
    "- Join verknüpft die beiden Datensätze miteinander(da co2.data die Timestamps beinhaltet und die View die Owner-Daten).\n",
    "- Die Funktion FROM_UNIXTIME wandelt den Unix-Zeitstempel in ein lesbares Datumsformat.\n",
    "- Mit Where wird nach dem owner \"unknown\" gesucht.\n",
    "- Mit Min wird der früheste Zeitstempel gefunden."
   ]
  },
  {
   "cell_type": "code",
   "execution_count": 10,
   "id": "7325f43e-4796-4667-9f53-06a56f43c73f",
   "metadata": {
    "tags": [
     "bda1_ex2_b1",
     "ex2_b4"
    ]
   },
   "outputs": [
    {
     "name": "stdout",
     "output_type": "stream",
     "text": [
      "('2021-04-10 18:42:42', )\n"
     ]
    }
   ],
   "source": [
    "query = '''\n",
    "SELECT MIN(FROM_UNIXTIME(CAST(c.columns[6] AS BIGINT))) as timestamp\n",
    "FROM dfs.data.`co2data.tsv` AS c\n",
    "JOIN dfs.tmp.`labels_bf1215s` AS l\n",
    "ON CONCAT('s_', l.serial_number, '_') = c.columns[1]\n",
    "WHERE LOWER(l.owner) = 'unknown'\n",
    "'''\n",
    "csr = con.cursor()\n",
    "csr.execute(query)\n",
    "res = csr.fetchall()\n",
    "for row in res:\n",
    "    print(row)"
   ]
  },
  {
   "cell_type": "markdown",
   "id": "71fa0a48-65fa-4cb8-92ff-b1a44e41dc57",
   "metadata": {},
   "source": [
    "## 2b: 5.) Ausgabe des physischen Plans\n",
    "\n",
    "- Durch \"Explain plan for\" wird der physische Plan von 2b: 4.) ausgegeben.\n",
    "- Durch den physischen Plan kann beobachtet werden, was für Schritte die Datenbank unternimmt um der Query gerecht zu werden."
   ]
  },
  {
   "cell_type": "code",
   "execution_count": 11,
   "id": "43a95528-f128-4dc3-b26b-7951236524c1",
   "metadata": {
    "tags": [
     "bda1_ex2_b1",
     "ex2_b5"
    ]
   },
   "outputs": [
    {
     "name": "stdout",
     "output_type": "stream",
     "text": [
      "('00-00    Screen\\n00-01      Project(first_timestamp=[$0])\\n00-02        ComplexToJson\\n00-03          Project(first_timestamp=[$0])\\n00-04            StreamAgg(group=[{}], first_timestamp=[MIN($0)])\\n00-05              StreamAgg(group=[{}], first_timestamp=[MIN($0)])\\n00-06                Project($f0=[FROM_UNIXTIME(CAST($1):BIGINT)])\\n00-07                  HashJoin(condition=[=($0, $2)], joinType=[inner], semi-join: =[false])\\n00-09                    Project($f2=[ITEM($0, 1)], ITEM=[ITEM($0, 6)])\\n00-10                      Scan(table=[[dfs, data, co2data.tsv]], groupscan=[EasyGroupScan [selectionRoot=file:/opt/data/bda1/co2data.tsv, numFiles=1, columns=[`columns`[1], `columns`[6]], files=[file:/opt/data/bda1/co2data.tsv], usedMetastore=false, limit=-1]])\\n00-08                    BroadcastExchange\\n01-01                      Project($f3=[CONCAT(\\'s_\\', CASE(IS NOT NULL($0), $0, $1), \\'_\\')])\\n01-02                        SelectionVectorRemover\\n01-03                          Filter(condition=[=(LOWER($2), \\'unknown\\')])\\n01-04                            HashJoin(condition=[=($0, $1)], joinType=[full], semi-join: =[false])\\n01-06                              HashAgg(group=[{0}])\\n01-08                                Project(serial_number=[$0])\\n01-10                                  HashToRandomExchange(dist0=[[$0]])\\n02-01                                    UnorderedMuxExchange\\n04-01                                      Project(serial_number=[$0], E_X_P_R_H_A_S_H_F_I_E_L_D=[hash32AsDouble($0, 1301011:BIGINT)])\\n04-02                                        HashAgg(group=[{0}])\\n04-03                                          Project(serial_number=[LOWER(REGEXP_REPLACE(ITEM($0, 1), \\'^s_|_$\\', \\'\\'))])\\n04-04                                            Scan(table=[[dfs, data, co2data.tsv]], groupscan=[EasyGroupScan [selectionRoot=file:/opt/data/bda1/co2data.tsv, numFiles=1, columns=[`columns`[1]], files=[file:/opt/data/bda1/co2data.tsv], usedMetastore=false, limit=-1]])\\n01-05                              Project(serial_number0=[$0], owner=[$1])\\n01-07                                Project(serial_number=[$0], owner=[$1])\\n01-09                                  HashToRandomExchange(dist0=[[$0]])\\n03-01                                    UnorderedMuxExchange\\n05-01                                      Project(serial_number=[$0], owner=[$1], E_X_P_R_H_A_S_H_F_I_E_L_D=[hash32AsDouble($0, 1301011:BIGINT)])\\n05-02                                        Project(serial_number=[LOWER($0)], owner=[$1])\\n05-03                                          Scan(table=[[bdapi, labels]], groupscan=[HttpGroupScan [scan spec=HttpScanSpec [schemaName=\"bdapi\", database=\"labels\", config=HttpStoragePluginConfig [connections={labels=HttpApiConfig [url=\"https://www.bigdata.fh-aachen.de/datasources_web/bda/bda_info.csv\", requireTail=false, method=\"GET\", authType=\"none\", inputType=\"csv\", xmlDataLevel=1, errorOn400=false, verifySSLCert=true, credentialsProvider=org.apache.drill.common.logical.security.PlainCredentialsProvider@1f, directCredentials=true]}, cacheResults=false, timeout=0, proxyPort=0, credentialsProvider=org.apache.drill.common.logical.security.PlainCredentialsProvider@1f, proxyType=\"direct\"]], columns=[`serial`, `owner`], maxRecords=-1]])\\n', '{\\n  \"head\" : {\\n    \"version\" : 1,\\n    \"generator\" : {\\n      \"type\" : \"ExplainHandler\",\\n      \"info\" : \"\"\\n    },\\n    \"type\" : \"APACHE_DRILL_PHYSICAL\",\\n    \"options\" : [ {\\n      \"kind\" : \"LONG\",\\n      \"accessibleScopes\" : \"ALL\",\\n      \"name\" : \"exec.query.max_rows\",\\n      \"num_val\" : 0,\\n      \"scope\" : \"QUERY\"\\n    } ],\\n    \"queue\" : 0,\\n    \"hasResourcePlan\" : false,\\n    \"resultMode\" : \"EXEC\"\\n  },\\n  \"graph\" : [ {\\n    \"pop\" : \"http-scan\",\\n    \"@id\" : 327683,\\n    \"columns\" : [ \"`serial`\", \"`owner`\" ],\\n    \"httpScanSpec\" : {\\n      \"pluginName\" : \"bdapi\",\\n      \"connection\" : \"labels\",\\n      \"tableName\" : null,\\n      \"config\" : {\\n        \"type\" : \"http\",\\n        \"connections\" : {\\n          \"labels\" : {\\n            \"url\" : \"https://www.bigdata.fh-aachen.de/datasources_web/bda/bda_info.csv\",\\n            \"requireTail\" : false,\\n            \"method\" : \"GET\",\\n            \"authType\" : \"none\",\\n            \"inputType\" : \"csv\",\\n            \"xmlDataLevel\" : 1,\\n            \"verifySSLCert\" : true\\n          }\\n        },\\n        \"proxyType\" : \"direct\",\\n        \"credentialsProvider\" : {\\n          \"credentialsProviderType\" : \"PlainCredentialsProvider\",\\n          \"credentials\" : { }\\n        }\\n      }\\n    },\\n    \"filterSelectivity\" : 0.0,\\n    \"maxRecords\" : -1,\\n    \"userName\" : \"no-user\",\\n    \"cost\" : {\\n      \"memoryCost\" : 1.6777216E7,\\n      \"outputRowCount\" : 0.0\\n    }\\n  }, {\\n    \"pop\" : \"project\",\\n    \"@id\" : 327682,\\n    \"exprs\" : [ {\\n      \"ref\" : \"`serial_number`\",\\n      \"expr\" : \"lower(`serial`) \"\\n    }, {\\n      \"ref\" : \"`owner`\",\\n      \"expr\" : \"`owner`\"\\n    } ],\\n    \"child\" : 327683,\\n    \"outputProj\" : false,\\n    \"initialAllocation\" : 1000000,\\n    \"maxAllocation\" : 10000000000,\\n    \"cost\" : {\\n      \"memoryCost\" : 1.6777216E7,\\n      \"outputRowCount\" : 1.0\\n    }\\n  }, {\\n    \"pop\" : \"project\",\\n    \"@id\" : 327681,\\n    \"exprs\" : [ {\\n      \"ref\" : \"`serial_number`\",\\n      \"expr\" : \"`serial_number`\"\\n    }, {\\n      \"ref\" : \"`owner`\",\\n      \"expr\" : \"`owner`\"\\n    }, {\\n      \"ref\" : \"`E_X_P_R_H_A_S_H_F_I_E_L_D`\",\\n      \"expr\" : \"hash32asdouble(`serial_number`, 1301011) \"\\n    } ],\\n    \"child\" : 327682,\\n    \"outputProj\" : false,\\n    \"initialAllocation\" : 1000000,\\n    \"maxAllocation\" : 10000000000,\\n    \"cost\" : {\\n      \"memoryCost\" : 1.6777216E7,\\n      \"outputRowCount\" : 1.0\\n    }\\n  }, {\\n    \"pop\" : \"unordered-mux-exchange\",\\n    \"@id\" : 196609,\\n    \"child\" : 327681,\\n    \"initialAllocation\" : 1000000,\\n    \"maxAllocation\" : 10000000000,\\n    \"cost\" : {\\n      \"memoryCost\" : 1.6777216E7,\\n      \"outputRowCount\" : 1.0\\n    }\\n  }, {\\n    \"pop\" : \"hash-to-random-exchange\",\\n    \"@id\" : 65545,\\n    \"child\" : 196609,\\n    \"expr\" : \"`E_X_P_R_H_A_S_H_F_I_E_L_D`\",\\n    \"initialAllocation\" : 1000000,\\n    \"maxAllocation\" : 10000000000,\\n    \"cost\" : {\\n      \"memoryCost\" : 1.6777216E7,\\n      \"outputRowCount\" : 1.0\\n    }\\n  }, {\\n    \"pop\" : \"project\",\\n    \"@id\" : 65543,\\n    \"exprs\" : [ {\\n      \"ref\" : \"`serial_number`\",\\n      \"expr\" : \"`serial_number`\"\\n    }, {\\n      \"ref\" : \"`owner`\",\\n      \"expr\" : \"`owner`\"\\n    } ],\\n    \"child\" : 65545,\\n    \"outputProj\" : false,\\n    \"initialAllocation\" : 1000000,\\n    \"maxAllocation\" : 10000000000,\\n    \"cost\" : {\\n      \"memoryCost\" : 1.6777216E7,\\n      \"outputRowCount\" : 1.0\\n    }\\n  }, {\\n    \"pop\" : \"project\",\\n    \"@id\" : 65541,\\n    \"exprs\" : [ {\\n      \"ref\" : \"`serial_number0`\",\\n      \"expr\" : \"`serial_number`\"\\n    }, {\\n      \"ref\" : \"`owner`\",\\n      \"expr\" : \"`owner`\"\\n    } ],\\n    \"child\" : 65543,\\n    \"outputProj\" : false,\\n    \"initialAllocation\" : 1000000,\\n    \"maxAllocation\" : 10000000000,\\n    \"cost\" : {\\n      \"memoryCost\" : 1.6777216E7,\\n      \"outputRowCount\" : 1.0\\n    }\\n  }, {\\n    \"pop\" : \"fs-scan\",\\n    \"@id\" : 262148,\\n    \"userName\" : \"bda1_bf1215s\",\\n    \"files\" : [ \"/opt/data/bda1/co2data.tsv\" ],\\n    \"storage\" : {\\n      \"type\" : \"file\",\\n      \"connection\" : \"file:///\",\\n      \"workspaces\" : {\\n        \"default\" : {\\n          \"location\" : \"/dev/null/\",\\n          \"writable\" : false,\\n          \"defaultInputFormat\" : null,\\n          \"allowAccessOutsideWorkspace\" : false\\n        },\\n        \"data\" : {\\n          \"location\" : \"/opt/data/bda1/\",\\n          \"writable\" : false,\\n          \"defaultInputFormat\" : null,\\n          \"allowAccessOutsideWorkspace\" : false\\n        },\\n        \"tmp\" : {\\n          \"location\" : \"/tmp/drilltemp/\",\\n          \"writable\" : true,\\n          \"defaultInputFormat\" : null,\\n          \"allowAccessOutsideWorkspace\" : false\\n        },\\n        \"views\" : {\\n          \"location\" : \"/opt/data/views/\",\\n          \"writable\" : true,\\n          \"defaultInputFormat\" : null,\\n          \"allowAccessOutsideWorkspace\" : false\\n        }\\n      },\\n      \"formats\" : {\\n        \"parquet\" : {\\n          \"type\" : \"parquet\"\\n        },\\n        \"json\" : {\\n          \"type\" : \"json\",\\n          \"extensions\" : [ \"json\" ]\\n        },\\n        \"sequencefile\" : {\\n          \"type\" : \"sequencefile\",\\n          \"extensions\" : [ \"seq\" ]\\n        },\\n        \"csvh\" : {\\n          \"type\" : \"text\",\\n          \"extensions\" : [ \"csvh\" ],\\n          \"extractHeader\" : true\\n        },\\n        \"psv\" : {\\n          \"type\" : \"text\",\\n          \"extensions\" : [ \"tbl\" ],\\n          \"fieldDelimiter\" : \"|\"\\n        },\\n        \"avro\" : {\\n          \"type\" : \"avro\",\\n          \"extensions\" : [ \"avro\" ]\\n        },\\n        \"tsv\" : {\\n          \"type\" : \"text\",\\n          \"extensions\" : [ \"tsv\" ],\\n          \"fieldDelimiter\" : \"\\\\t\"\\n        },\\n        \"csv\" : {\\n          \"type\" : \"text\",\\n          \"extensions\" : [ \"csv\" ]\\n        },\\n        \"pdf\" : {\\n          \"type\" : \"pdf\",\\n          \"extensions\" : [ \"pdf\" ],\\n          \"extractHeaders\" : true,\\n          \"extractionAlgorithm\" : \"basic\"\\n        },\\n        \"syslog\" : {\\n          \"type\" : \"syslog\",\\n          \"extensions\" : [ \"syslog\" ],\\n          \"maxErrors\" : 10\\n        },\\n        \"image\" : {\\n          \"type\" : \"image\",\\n          \"extensions\" : [ \"jpg\", \"jpeg\", \"jpe\", \"tif\", \"tiff\", \"dng\", \"psd\", \"png\", \"bmp\", \"gif\", \"ico\", \"pcx\", \"wav\", \"wave\", \"avi\", \"webp\", \"mov\", \"mp4\", \"m4a\", \"m4p\", \"m4b\", \"m4r\", \"m4v\", \"3gp\", \"3g2\", \"eps\", \"epsf\", \"epsi\", \"ai\", \"arw\", \"crw\", \"cr2\", \"nef\", \"orf\", \"raf\", \"rw2\", \"rwl\", \"srw\", \"x3f\" ],\\n          \"fileSystemMetadata\" : true,\\n          \"descriptive\" : true\\n        },\\n        \"hdf5\" : {\\n          \"type\" : \"hdf5\",\\n          \"extensions\" : [ \"h5\" ],\\n          \"defaultPath\" : null\\n        },\\n        \"httpd\" : {\\n          \"type\" : \"httpd\",\\n          \"extensions\" : [ \"httpd\" ],\\n          \"logFormat\" : \"common\\\\ncombined\"\\n        },\\n        \"sas\" : {\\n          \"type\" : \"sas\",\\n          \"extensions\" : [ \"sas7bdat\" ]\\n        },\\n        \"iceberg\" : {\\n          \"type\" : \"iceberg\",\\n          \"properties\" : null,\\n          \"caseSensitive\" : null,\\n          \"includeColumnStats\" : null,\\n          \"ignoreResiduals\" : null,\\n          \"snapshotId\" : null,\\n          \"snapshotAsOfTime\" : null,\\n          \"fromSnapshotId\" : null,\\n          \"toSnapshotId\" : null\\n        },\\n        \"xml\" : {\\n          \"type\" : \"xml\",\\n          \"extensions\" : [ \"xml\" ],\\n          \"dataLevel\" : 1\\n        },\\n        \"ltsv\" : {\\n          \"type\" : \"ltsv\",\\n          \"extensions\" : [ \"ltsv\" ]\\n        },\\n        \"pcap\" : {\\n          \"type\" : \"pcap\",\\n          \"extensions\" : [ \"pcap\", \"pcapng\" ]\\n        },\\n        \"excel\" : {\\n          \"type\" : \"excel\",\\n          \"extensions\" : [ \"xlsx\" ],\\n          \"lastRow\" : 1048576\\n        },\\n        \"spss\" : {\\n          \"type\" : \"spss\",\\n          \"extensions\" : [ \"sav\" ]\\n        },\\n        \"shp\" : {\\n          \"type\" : \"shp\",\\n          \"extensions\" : [ \"shp\" ]\\n        },\\n        \"text\" : {\\n          \"type\" : \"text\",\\n          \"extensions\" : [ \"txt\" ],\\n          \"fieldDelimiter\" : \"\\\\r\"\\n        }\\n      },\\n      \"enabled\" : true\\n    },\\n    \"format\" : {\\n      \"type\" : \"text\",\\n      \"extensions\" : [ \"tsv\" ],\\n      \"fieldDelimiter\" : \"\\\\t\"\\n    },\\n    \"columns\" : [ \"`columns`[1]\" ],\\n    \"selectionRoot\" : \"/opt/data/bda1/co2data.tsv\",\\n    \"limit\" : -1,\\n    \"cost\" : {\\n      \"memoryCost\" : 1.6777216E7,\\n      \"outputRowCount\" : 1.0386152E7\\n    }\\n  }, {\\n    \"pop\" : \"project\",\\n    \"@id\" : 262147,\\n    \"exprs\" : [ {\\n      \"ref\" : \"`serial_number`\",\\n      \"expr\" : \"lower(regexp_replace(`columns`[1], \\'^s_|_$\\', \\'\\') ) \"\\n    } ],\\n    \"child\" : 262148,\\n    \"outputProj\" : false,\\n    \"initialAllocation\" : 1000000,\\n    \"maxAllocation\" : 10000000000,\\n    \"cost\" : {\\n      \"memoryCost\" : 1.6777216E7,\\n      \"outputRowCount\" : 1.0386152E7\\n    }\\n  }, {\\n    \"pop\" : \"hash-aggregate\",\\n    \"@id\" : 262146,\\n    \"child\" : 262147,\\n    \"cardinality\" : 1.0,\\n    \"initialAllocation\" : 1000000,\\n    \"maxAllocation\" : 10000000000,\\n    \"aggPhase\" : \"PHASE_1of2\",\\n    \"groupByExprs\" : [ {\\n      \"ref\" : \"`serial_number`\",\\n      \"expr\" : \"`serial_number`\"\\n    } ],\\n    \"aggrExprs\" : [ ],\\n    \"cost\" : {\\n      \"memoryCost\" : 1.8279627520000002E8,\\n      \"outputRowCount\" : 5193076.0\\n    }\\n  }, {\\n    \"pop\" : \"project\",\\n    \"@id\" : 262145,\\n    \"exprs\" : [ {\\n      \"ref\" : \"`serial_number`\",\\n      \"expr\" : \"`serial_number`\"\\n    }, {\\n      \"ref\" : \"`E_X_P_R_H_A_S_H_F_I_E_L_D`\",\\n      \"expr\" : \"hash32asdouble(`serial_number`, 1301011) \"\\n    } ],\\n    \"child\" : 262146,\\n    \"outputProj\" : false,\\n    \"initialAllocation\" : 1000000,\\n    \"maxAllocation\" : 10000000000,\\n    \"cost\" : {\\n      \"memoryCost\" : 1.6777216E7,\\n      \"outputRowCount\" : 1038615.2\\n    }\\n  }, {\\n    \"pop\" : \"unordered-mux-exchange\",\\n    \"@id\" : 131073,\\n    \"child\" : 262145,\\n    \"initialAllocation\" : 1000000,\\n    \"maxAllocation\" : 10000000000,\\n    \"cost\" : {\\n      \"memoryCost\" : 1.6777216E7,\\n      \"outputRowCount\" : 1038615.2\\n    }\\n  }, {\\n    \"pop\" : \"hash-to-random-exchange\",\\n    \"@id\" : 65546,\\n    \"child\" : 131073,\\n    \"expr\" : \"`E_X_P_R_H_A_S_H_F_I_E_L_D`\",\\n    \"initialAllocation\" : 1000000,\\n    \"maxAllocation\" : 10000000000,\\n    \"cost\" : {\\n      \"memoryCost\" : 1.6777216E7,\\n      \"outputRowCount\" : 1038615.2\\n    }\\n  }, {\\n    \"pop\" : \"project\",\\n    \"@id\" : 65544,\\n    \"exprs\" : [ {\\n      \"ref\" : \"`serial_number`\",\\n      \"expr\" : \"`serial_number`\"\\n    } ],\\n    \"child\" : 65546,\\n    \"outputProj\" : false,\\n    \"initialAllocation\" : 1000000,\\n    \"maxAllocation\" : 10000000000,\\n    \"cost\" : {\\n      \"memoryCost\" : 1.6777216E7,\\n      \"outputRowCount\" : 1038615.2\\n    }\\n  }, {\\n    \"pop\" : \"hash-aggregate\",\\n    \"@id\" : 65542,\\n    \"child\" : 65544,\\n    \"cardinality\" : 1.0,\\n    \"initialAllocation\" : 1000000,\\n    \"maxAllocation\" : 10000000000,\\n    \"aggPhase\" : \"PHASE_2of2\",\\n    \"groupByExprs\" : [ {\\n      \"ref\" : \"`serial_number`\",\\n      \"expr\" : \"`serial_number`\"\\n    } ],\\n    \"aggrExprs\" : [ ],\\n    \"cost\" : {\\n      \"memoryCost\" : 1.827962752E7,\\n      \"outputRowCount\" : 519307.6\\n    }\\n  }, {\\n    \"pop\" : \"hash-join\",\\n    \"@id\" : 65540,\\n    \"left\" : 65542,\\n    \"right\" : 65541,\\n    \"conditions\" : [ {\\n      \"relationship\" : \"EQUALS\",\\n      \"left\" : \"`serial_number`\",\\n      \"right\" : \"`serial_number0`\"\\n    } ],\\n    \"joinType\" : \"FULL\",\\n    \"semiJoin\" : false,\\n    \"isRowKeyJoin\" : false,\\n    \"joinControl\" : 0,\\n    \"initialAllocation\" : 1000000,\\n    \"maxAllocation\" : 10000000000,\\n    \"cost\" : {\\n      \"memoryCost\" : 17.6,\\n      \"outputRowCount\" : 103861.51999999999\\n    }\\n  }, {\\n    \"pop\" : \"filter\",\\n    \"@id\" : 65539,\\n    \"child\" : 65540,\\n    \"expr\" : \"equal(lower(`owner`) , \\'unknown\\') \",\\n    \"initialAllocation\" : 1000000,\\n    \"maxAllocation\" : 10000000000,\\n    \"cost\" : {\\n      \"memoryCost\" : 1.6777216E7,\\n      \"outputRowCount\" : 15579.227999999997\\n    }\\n  }, {\\n    \"pop\" : \"selection-vector-remover\",\\n    \"@id\" : 65538,\\n    \"child\" : 65539,\\n    \"initialAllocation\" : 1000000,\\n    \"maxAllocation\" : 10000000000,\\n    \"cost\" : {\\n      \"memoryCost\" : 1.6777216E7,\\n      \"outputRowCount\" : 15579.227999999997\\n    }\\n  }, {\\n    \"pop\" : \"project\",\\n    \"@id\" : 65537,\\n    \"exprs\" : [ {\\n      \"ref\" : \"`$f3`\",\\n      \"expr\" : \"concat(concat(\\'s_\\',  ( if (isnotnull(`serial_number`)  ) then (`serial_number` )  else (`serial_number0` )  end  ) ) , \\'_\\') \"\\n    } ],\\n    \"child\" : 65538,\\n    \"outputProj\" : false,\\n    \"initialAllocation\" : 1000000,\\n    \"maxAllocation\" : 10000000000,\\n    \"cost\" : {\\n      \"memoryCost\" : 1.6777216E7,\\n      \"outputRowCount\" : 15579.227999999997\\n    }\\n  }, {\\n    \"pop\" : \"broadcast-exchange\",\\n    \"@id\" : 8,\\n    \"child\" : 65537,\\n    \"initialAllocation\" : 1000000,\\n    \"maxAllocation\" : 10000000000,\\n    \"cost\" : {\\n      \"memoryCost\" : 1.6777216E7,\\n      \"outputRowCount\" : 15579.227999999997\\n    }\\n  }, {\\n    \"pop\" : \"fs-scan\",\\n    \"@id\" : 10,\\n    \"userName\" : \"bda1_bf1215s\",\\n    \"files\" : [ \"/opt/data/bda1/co2data.tsv\" ],\\n    \"storage\" : {\\n      \"type\" : \"file\",\\n      \"connection\" : \"file:///\",\\n      \"workspaces\" : {\\n        \"default\" : {\\n          \"location\" : \"/dev/null/\",\\n          \"writable\" : false,\\n          \"defaultInputFormat\" : null,\\n          \"allowAccessOutsideWorkspace\" : false\\n        },\\n        \"data\" : {\\n          \"location\" : \"/opt/data/bda1/\",\\n          \"writable\" : false,\\n          \"defaultInputFormat\" : null,\\n          \"allowAccessOutsideWorkspace\" : false\\n        },\\n        \"tmp\" : {\\n          \"location\" : \"/tmp/drilltemp/\",\\n          \"writable\" : true,\\n          \"defaultInputFormat\" : null,\\n          \"allowAccessOutsideWorkspace\" : false\\n        },\\n        \"views\" : {\\n          \"location\" : \"/opt/data/views/\",\\n          \"writable\" : true,\\n          \"defaultInputFormat\" : null,\\n          \"allowAccessOutsideWorkspace\" : false\\n        }\\n      },\\n      \"formats\" : {\\n        \"parquet\" : {\\n          \"type\" : \"parquet\"\\n        },\\n        \"json\" : {\\n          \"type\" : \"json\",\\n          \"extensions\" : [ \"json\" ]\\n        },\\n        \"sequencefile\" : {\\n          \"type\" : \"sequencefile\",\\n          \"extensions\" : [ \"seq\" ]\\n        },\\n        \"csvh\" : {\\n          \"type\" : \"text\",\\n          \"extensions\" : [ \"csvh\" ],\\n          \"extractHeader\" : true\\n        },\\n        \"psv\" : {\\n          \"type\" : \"text\",\\n          \"extensions\" : [ \"tbl\" ],\\n          \"fieldDelimiter\" : \"|\"\\n        },\\n        \"avro\" : {\\n          \"type\" : \"avro\",\\n          \"extensions\" : [ \"avro\" ]\\n        },\\n        \"tsv\" : {\\n          \"type\" : \"text\",\\n          \"extensions\" : [ \"tsv\" ],\\n          \"fieldDelimiter\" : \"\\\\t\"\\n        },\\n        \"csv\" : {\\n          \"type\" : \"text\",\\n          \"extensions\" : [ \"csv\" ]\\n        },\\n        \"pdf\" : {\\n          \"type\" : \"pdf\",\\n          \"extensions\" : [ \"pdf\" ],\\n          \"extractHeaders\" : true,\\n          \"extractionAlgorithm\" : \"basic\"\\n        },\\n        \"syslog\" : {\\n          \"type\" : \"syslog\",\\n          \"extensions\" : [ \"syslog\" ],\\n          \"maxErrors\" : 10\\n        },\\n        \"image\" : {\\n          \"type\" : \"image\",\\n          \"extensions\" : [ \"jpg\", \"jpeg\", \"jpe\", \"tif\", \"tiff\", \"dng\", \"psd\", \"png\", \"bmp\", \"gif\", \"ico\", \"pcx\", \"wav\", \"wave\", \"avi\", \"webp\", \"mov\", \"mp4\", \"m4a\", \"m4p\", \"m4b\", \"m4r\", \"m4v\", \"3gp\", \"3g2\", \"eps\", \"epsf\", \"epsi\", \"ai\", \"arw\", \"crw\", \"cr2\", \"nef\", \"orf\", \"raf\", \"rw2\", \"rwl\", \"srw\", \"x3f\" ],\\n          \"fileSystemMetadata\" : true,\\n          \"descriptive\" : true\\n        },\\n        \"hdf5\" : {\\n          \"type\" : \"hdf5\",\\n          \"extensions\" : [ \"h5\" ],\\n          \"defaultPath\" : null\\n        },\\n        \"httpd\" : {\\n          \"type\" : \"httpd\",\\n          \"extensions\" : [ \"httpd\" ],\\n          \"logFormat\" : \"common\\\\ncombined\"\\n        },\\n        \"sas\" : {\\n          \"type\" : \"sas\",\\n          \"extensions\" : [ \"sas7bdat\" ]\\n        },\\n        \"iceberg\" : {\\n          \"type\" : \"iceberg\",\\n          \"properties\" : null,\\n          \"caseSensitive\" : null,\\n          \"includeColumnStats\" : null,\\n          \"ignoreResiduals\" : null,\\n          \"snapshotId\" : null,\\n          \"snapshotAsOfTime\" : null,\\n          \"fromSnapshotId\" : null,\\n          \"toSnapshotId\" : null\\n        },\\n        \"xml\" : {\\n          \"type\" : \"xml\",\\n          \"extensions\" : [ \"xml\" ],\\n          \"dataLevel\" : 1\\n        },\\n        \"ltsv\" : {\\n          \"type\" : \"ltsv\",\\n          \"extensions\" : [ \"ltsv\" ]\\n        },\\n        \"pcap\" : {\\n          \"type\" : \"pcap\",\\n          \"extensions\" : [ \"pcap\", \"pcapng\" ]\\n        },\\n        \"excel\" : {\\n          \"type\" : \"excel\",\\n          \"extensions\" : [ \"xlsx\" ],\\n          \"lastRow\" : 1048576\\n        },\\n        \"spss\" : {\\n          \"type\" : \"spss\",\\n          \"extensions\" : [ \"sav\" ]\\n        },\\n        \"shp\" : {\\n          \"type\" : \"shp\",\\n          \"extensions\" : [ \"shp\" ]\\n        },\\n        \"text\" : {\\n          \"type\" : \"text\",\\n          \"extensions\" : [ \"txt\" ],\\n          \"fieldDelimiter\" : \"\\\\r\"\\n        }\\n      },\\n      \"enabled\" : true\\n    },\\n    \"format\" : {\\n      \"type\" : \"text\",\\n      \"extensions\" : [ \"tsv\" ],\\n      \"fieldDelimiter\" : \"\\\\t\"\\n    },\\n    \"columns\" : [ \"`columns`[1]\", \"`columns`[6]\" ],\\n    \"selectionRoot\" : \"/opt/data/bda1/co2data.tsv\",\\n    \"limit\" : -1,\\n    \"cost\" : {\\n      \"memoryCost\" : 1.6777216E7,\\n      \"outputRowCount\" : 1.0386152E7\\n    }\\n  }, {\\n    \"pop\" : \"project\",\\n    \"@id\" : 9,\\n    \"exprs\" : [ {\\n      \"ref\" : \"`$f2`\",\\n      \"expr\" : \"`columns`[1]\"\\n    }, {\\n      \"ref\" : \"`ITEM`\",\\n      \"expr\" : \"`columns`[6]\"\\n    } ],\\n    \"child\" : 10,\\n    \"outputProj\" : false,\\n    \"initialAllocation\" : 1000000,\\n    \"maxAllocation\" : 10000000000,\\n    \"cost\" : {\\n      \"memoryCost\" : 1.6777216E7,\\n      \"outputRowCount\" : 1.0386152E7\\n    }\\n  }, {\\n    \"pop\" : \"hash-join\",\\n    \"@id\" : 7,\\n    \"left\" : 9,\\n    \"right\" : 8,\\n    \"conditions\" : [ {\\n      \"relationship\" : \"EQUALS\",\\n      \"left\" : \"`$f2`\",\\n      \"right\" : \"`$f3`\"\\n    } ],\\n    \"joinType\" : \"INNER\",\\n    \"semiJoin\" : false,\\n    \"isRowKeyJoin\" : false,\\n    \"joinControl\" : 0,\\n    \"initialAllocation\" : 1000000,\\n    \"maxAllocation\" : 10000000000,\\n    \"cost\" : {\\n      \"memoryCost\" : 274194.4128,\\n      \"outputRowCount\" : 1.0386152E7\\n    }\\n  }, {\\n    \"pop\" : \"project\",\\n    \"@id\" : 6,\\n    \"exprs\" : [ {\\n      \"ref\" : \"`$f0`\",\\n      \"expr\" : \"from_unixtime(cast( (`ITEM` ) as BIGINT )) \"\\n    } ],\\n    \"child\" : 7,\\n    \"outputProj\" : false,\\n    \"initialAllocation\" : 1000000,\\n    \"maxAllocation\" : 10000000000,\\n    \"cost\" : {\\n      \"memoryCost\" : 1.6777216E7,\\n      \"outputRowCount\" : 1.0386152E7\\n    }\\n  }, {\\n    \"pop\" : \"streaming-aggregate\",\\n    \"@id\" : 5,\\n    \"child\" : 6,\\n    \"keys\" : [ ],\\n    \"exprs\" : [ {\\n      \"ref\" : \"`first_timestamp`\",\\n      \"expr\" : \"min(`$f0`) \"\\n    } ],\\n    \"initialAllocation\" : 1000000,\\n    \"maxAllocation\" : 10000000000,\\n    \"cost\" : {\\n      \"memoryCost\" : 1.6777216E7,\\n      \"outputRowCount\" : 1.0\\n    }\\n  }, {\\n    \"pop\" : \"streaming-aggregate\",\\n    \"@id\" : 4,\\n    \"child\" : 5,\\n    \"keys\" : [ ],\\n    \"exprs\" : [ {\\n      \"ref\" : \"`first_timestamp`\",\\n      \"expr\" : \"min(`first_timestamp`) \"\\n    } ],\\n    \"initialAllocation\" : 1000000,\\n    \"maxAllocation\" : 10000000000,\\n    \"cost\" : {\\n      \"memoryCost\" : 1.6777216E7,\\n      \"outputRowCount\" : 1.0\\n    }\\n  }, {\\n    \"pop\" : \"project\",\\n    \"@id\" : 3,\\n    \"exprs\" : [ {\\n      \"ref\" : \"`first_timestamp`\",\\n      \"expr\" : \"`first_timestamp`\"\\n    } ],\\n    \"child\" : 4,\\n    \"outputProj\" : true,\\n    \"initialAllocation\" : 1000000,\\n    \"maxAllocation\" : 10000000000,\\n    \"cost\" : {\\n      \"memoryCost\" : 1.6777216E7,\\n      \"outputRowCount\" : 1.0\\n    }\\n  }, {\\n    \"pop\" : \"complex-to-json\",\\n    \"@id\" : 2,\\n    \"child\" : 3,\\n    \"initialAllocation\" : 1000000,\\n    \"maxAllocation\" : 10000000000,\\n    \"cost\" : {\\n      \"memoryCost\" : 1.6777216E7,\\n      \"outputRowCount\" : 1.0\\n    }\\n  }, {\\n    \"pop\" : \"project\",\\n    \"@id\" : 1,\\n    \"exprs\" : [ {\\n      \"ref\" : \"`first_timestamp`\",\\n      \"expr\" : \"`first_timestamp`\"\\n    } ],\\n    \"child\" : 2,\\n    \"outputProj\" : true,\\n    \"initialAllocation\" : 1000000,\\n    \"maxAllocation\" : 10000000000,\\n    \"cost\" : {\\n      \"memoryCost\" : 1.6777216E7,\\n      \"outputRowCount\" : 1.0\\n    }\\n  }, {\\n    \"pop\" : \"screen\",\\n    \"@id\" : 0,\\n    \"child\" : 1,\\n    \"initialAllocation\" : 1000000,\\n    \"maxAllocation\" : 10000000000,\\n    \"cost\" : {\\n      \"memoryCost\" : 1.6777216E7,\\n      \"outputRowCount\" : 1.0\\n    }\\n  } ]\\n}')\n"
     ]
    }
   ],
   "source": [
    "query = '''\n",
    "EXPLAIN PLAN FOR\n",
    "SELECT MIN(FROM_UNIXTIME(CAST(c.columns[6] AS BIGINT))) as first_timestamp\n",
    "FROM dfs.data.`co2data.tsv` AS c\n",
    "JOIN dfs.tmp.`labels_bf1215s` AS l\n",
    "ON CONCAT('s_', l.serial_number, '_') = c.columns[1]\n",
    "WHERE LOWER(l.owner) = 'unknown'\n",
    "'''\n",
    "csr = con.cursor()\n",
    "csr.execute(query)\n",
    "res = csr.fetchall()\n",
    "for row in res:\n",
    "    print(row)"
   ]
  },
  {
   "cell_type": "markdown",
   "id": "9b347fac-368d-4968-8e95-4776c40e6af9",
   "metadata": {},
   "source": [
    "## Aufgabe 2 c\n",
    "\n",
    "1. Die Datenmenge unter `dfs.bdapi.sensorslastday` ändert sich in Intervallen.  Finden Sie einen Weg, diese Datenmenge nutzbar zu machen. (Tipp: Drill bietet Funktionen für komplexe Datentypen an, z.B. [FLATTEN()](https://drill.apache.org/docs/flatten/)). Die Antwort Ihrer Query sollte die Felder `timewindow`, `celsius` und `humidity` liefern.\n",
    "2. Geben Sie mit einer einzigen Query die beiden Datenpunkte der extremen Temperaturen (`celsius`) aus, d.h. die Zeile mit der höchsten Temeperatur und die Zeile mit der niedrigsten Temperatur.\n",
    "3. Optional: Finden Sie für die Datenmenge `dfs.bdapi.sensorslastday` zu jedem Zeitraum heraus, ob es Tag ist oder Nacht. Das können Sie mithilfe der Datenmenge `dfs.weather.sunrise` tun. Nehmen Sie für den Sensor in der Datenmenge die Geokoordinaten `50.75410842895508`, `6.08587121963501` an.  "
   ]
  },
  {
   "cell_type": "markdown",
   "id": "882c0f4c-e43e-4433-8672-c4b5079add27",
   "metadata": {},
   "source": [
    "## 2c: 1.) JSON-Datenabfrage\n",
    "\n",
    "- Das JSON-Array resultset wird mit der FLATTEN-Funktion entpackt. Dabei wird jedes Objekt im Array als separate Zeile angezeigt.\n",
    "- Das Flatten der JSON-Daten ermöglicht es, die Datenstruktur in eine tabellarische Form zu bringen und die Daten einfach abzufragen.\n",
    "- Die Abfrage gibt 'timewindow', 'celsius' und 'humidity' für alle Messungen zurück."
   ]
  },
  {
   "cell_type": "code",
   "execution_count": 36,
   "id": "2edddf99-797e-4fc0-adf6-5eff8ab12a22",
   "metadata": {
    "tags": [
     "bda1_ex2_c",
     "ex2_c1"
    ]
   },
   "outputs": [
    {
     "name": "stdout",
     "output_type": "stream",
     "text": [
      "('2023-05-26 01:45:00', 34.3306109111, 23.3846352895)\n",
      "('2023-05-26 01:45:00', 37.080242157, 20.9130204519)\n",
      "('2023-05-26 01:30:00', 34.1472651164, 23.421614329)\n",
      "('2023-05-26 01:30:00', 36.880057017, 20.9593747457)\n",
      "('2023-05-26 01:15:00', 34.1124242147, 23.5257161458)\n",
      "('2023-05-26 01:15:00', 36.79773585, 21.0313154856)\n",
      "('2023-05-26 01:00:00', 36.8978176117, 21.0810546875)\n",
      "('2023-05-26 01:00:00', 33.8465576172, 23.5929031372)\n",
      "('2023-05-26 00:45:00', 33.8612263997, 23.6533857981)\n",
      "('2023-05-26 00:45:00', 37.0559196472, 21.1427726746)\n"
     ]
    }
   ],
   "source": [
    "query = '''\n",
    "SELECT t.read.timewindow AS timewindow,\n",
    "t.read.humidity AS humidity,\n",
    "t.read.celsius AS celsius\n",
    "FROM (\n",
    "    SELECT FLATTEN(resultset) AS read\n",
    "    FROM bdapi.sensorslastday\n",
    ") AS t\n",
    "LIMIT 10\n",
    "'''\n",
    "csr = con.cursor()\n",
    "csr.execute(query)\n",
    "res = csr.fetchall()\n",
    "for row in res:\n",
    "    print(row)"
   ]
  },
  {
   "cell_type": "markdown",
   "id": "d8480e09-a378-4fe0-917f-7491a3c50a0f",
   "metadata": {},
   "source": [
    "## 2c: 2.) Ermittlung maximale und minimale Temperatur\n",
    "\n",
    "- Diese Abfrage verwendet die MAX- und MIN-Funktion, um die höchste und  die niedrigste Temperatur im  Datensatz zu finden.\n",
    "- Das JSON-Array resultset wird mit der FLATTEN-Funktion entpackt.\n",
    "-  Die Ergebnisse werden als 'max_temperature' und 'min_temperature' ausgegeben."
   ]
  },
  {
   "cell_type": "code",
   "execution_count": 37,
   "id": "9d037ec4-50b4-4a8e-ac11-630b42b3d389",
   "metadata": {
    "tags": [
     "bda1_ex2_c",
     "ex2_c2"
    ]
   },
   "outputs": [
    {
     "name": "stdout",
     "output_type": "stream",
     "text": [
      "(27.5705076853, -34.4796854655)\n"
     ]
    }
   ],
   "source": [
    "query = '''\n",
    "SELECT\n",
    "  MAX(t.read.celsius) AS max_temperature,\n",
    "  MIN(t.read.celsius) AS min_temperature\n",
    "FROM (\n",
    "  SELECT FLATTEN(resultset) AS read\n",
    "  FROM bdapi.sensorslastday\n",
    ") AS t\n",
    "'''\n",
    "csr = con.cursor()\n",
    "csr.execute(query)\n",
    "res = csr.fetchall()\n",
    "for row in res:\n",
    "    print(row)"
   ]
  },
  {
   "cell_type": "markdown",
   "id": "e3a2a7ec-fa9c-4afd-aee5-0a6047f134da",
   "metadata": {},
   "source": [
    "_____"
   ]
  }
 ],
 "metadata": {
  "kernelspec": {
   "display_name": "Python 3 (ipykernel)",
   "language": "python",
   "name": "python3"
  },
  "language_info": {
   "codemirror_mode": {
    "name": "ipython",
    "version": 3
   },
   "file_extension": ".py",
   "mimetype": "text/x-python",
   "name": "python",
   "nbconvert_exporter": "python",
   "pygments_lexer": "ipython3",
   "version": "3.9.6"
  }
 },
 "nbformat": 4,
 "nbformat_minor": 5
}
